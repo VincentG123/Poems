{
 "cells": [
  {
   "cell_type": "code",
   "execution_count": 1,
   "metadata": {},
   "outputs": [],
   "source": [
    "%matplotlib inline\n",
    "import numpy as np\n",
    "import pandas as pd\n",
    "import scipy\n",
    "import sklearn\n",
    "import matplotlib.pyplot as plt\n",
    "import seaborn as sns\n",
    "import re\n",
    "import spacy"
   ]
  },
  {
   "cell_type": "code",
   "execution_count": 2,
   "metadata": {},
   "outputs": [],
   "source": [
    "# Import the data we just downloaded and installed.\n",
    "from nltk.corpus import gutenberg, stopwords"
   ]
  },
  {
   "cell_type": "code",
   "execution_count": 3,
   "metadata": {},
   "outputs": [
    {
     "name": "stdout",
     "output_type": "stream",
     "text": [
      "['austen-emma.txt', 'austen-persuasion.txt', 'austen-sense.txt', 'bible-kjv.txt', 'blake-poems.txt', 'bryant-stories.txt', 'burgess-busterbrown.txt', 'carroll-alice.txt', 'chesterton-ball.txt', 'chesterton-brown.txt', 'chesterton-thursday.txt', 'edgeworth-parents.txt', 'melville-moby_dick.txt', 'milton-paradise.txt', 'shakespeare-caesar.txt', 'shakespeare-hamlet.txt', 'shakespeare-macbeth.txt', 'whitman-leaves.txt']\n"
     ]
    }
   ],
   "source": [
    "print(gutenberg.fileids())"
   ]
  },
  {
   "cell_type": "code",
   "execution_count": 4,
   "metadata": {},
   "outputs": [],
   "source": [
    "whitman = gutenberg.raw('whitman-leaves.txt')\n",
    "blake = gutenberg.raw('blake-poems.txt')\n",
    "blake = gutenberg.raw('blake-poems.txt') "
   ]
  },
  {
   "cell_type": "code",
   "execution_count": 5,
   "metadata": {},
   "outputs": [],
   "source": [
    "milton = gutenberg.raw('milton-paradise.txt') "
   ]
  },
  {
   "cell_type": "code",
   "execution_count": 6,
   "metadata": {},
   "outputs": [],
   "source": [
    "whitman2 = \"Hello. Come, said my soul, Such verses for my Body let us write, (for we are one,) That should I after return, Or, long, long hence, in other spheres, There to some group of mates the chants resuming,(Tallying Earth's soil, trees, winds, tumultuous waves,)Ever with pleas'd smile I may keep on,Ever and ever yet the verses owning--as, first, I here and nowSigning for Soul and Body, set to them my name, Walt Whitman\""
   ]
  },
  {
   "cell_type": "code",
   "execution_count": 7,
   "metadata": {},
   "outputs": [],
   "source": [
    "nlp = spacy.load('en')\n",
    "whitman2_doc = nlp(whitman2)"
   ]
  },
  {
   "cell_type": "code",
   "execution_count": 8,
   "metadata": {},
   "outputs": [],
   "source": [
    "whitman_sents = [[sent] for sent in  whitman2_doc.sents]"
   ]
  },
  {
   "cell_type": "code",
   "execution_count": 9,
   "metadata": {},
   "outputs": [],
   "source": [
    "sentences = pd.DataFrame(whitman_sents)"
   ]
  },
  {
   "cell_type": "code",
   "execution_count": 10,
   "metadata": {},
   "outputs": [
    {
     "data": {
      "text/html": [
       "<div>\n",
       "<style>\n",
       "    .dataframe thead tr:only-child th {\n",
       "        text-align: right;\n",
       "    }\n",
       "\n",
       "    .dataframe thead th {\n",
       "        text-align: left;\n",
       "    }\n",
       "\n",
       "    .dataframe tbody tr th {\n",
       "        vertical-align: top;\n",
       "    }\n",
       "</style>\n",
       "<table border=\"1\" class=\"dataframe\">\n",
       "  <thead>\n",
       "    <tr style=\"text-align: right;\">\n",
       "      <th></th>\n",
       "      <th>0</th>\n",
       "    </tr>\n",
       "  </thead>\n",
       "  <tbody>\n",
       "    <tr>\n",
       "      <th>0</th>\n",
       "      <td>(Hello, .)</td>\n",
       "    </tr>\n",
       "    <tr>\n",
       "      <th>1</th>\n",
       "      <td>(Come, ,, said, my, soul, ,, Such, verses, for...</td>\n",
       "    </tr>\n",
       "    <tr>\n",
       "      <th>2</th>\n",
       "      <td>(That, should, I, after, return, ,, Or, ,, lon...</td>\n",
       "    </tr>\n",
       "  </tbody>\n",
       "</table>\n",
       "</div>"
      ],
      "text/plain": [
       "                                                   0\n",
       "0                                         (Hello, .)\n",
       "1  (Come, ,, said, my, soul, ,, Such, verses, for...\n",
       "2  (That, should, I, after, return, ,, Or, ,, lon..."
      ]
     },
     "execution_count": 10,
     "metadata": {},
     "output_type": "execute_result"
    }
   ],
   "source": [
    "sentences"
   ]
  },
  {
   "cell_type": "code",
   "execution_count": 11,
   "metadata": {},
   "outputs": [],
   "source": [
    "tyger = \"Tyger Tyger, burning bright,In the forests of the night; What immortal hand or eye,Could frame thy fearful symmetry? In what distant deeps or skies, Burnt the fire of thine eyes? On what wings dare he aspire? What the hand, dare seize the fire? And what shoulder, & what art, Could twist the sinews of thy heart? And when thy heart began to beat, What dread hand? & what dread feet? What the hammer? what the chain, In what furnace was thy brain? What the anvil? what dread grasp, Dare its deadly terrors clasp! When the stars threw down their spears And water'd heaven with their tears: Did he smile his work to see? Did he who made the Lamb make thee? Tyger Tyger burning bright, In the forests of the night: What immortal hand or eye, Dare frame thy fearful symmetry?\""
   ]
  },
  {
   "cell_type": "code",
   "execution_count": 12,
   "metadata": {},
   "outputs": [
    {
     "data": {
      "text/plain": [
       "\"Tyger Tyger, burning bright,In the forests of the night; What immortal hand or eye,Could frame thy fearful symmetry? In what distant deeps or skies, Burnt the fire of thine eyes? On what wings dare he aspire? What the hand, dare seize the fire? And what shoulder, & what art, Could twist the sinews of thy heart? And when thy heart began to beat, What dread hand? & what dread feet? What the hammer? what the chain, In what furnace was thy brain? What the anvil? what dread grasp, Dare its deadly terrors clasp! When the stars threw down their spears And water'd heaven with their tears: Did he smile his work to see? Did he who made the Lamb make thee? Tyger Tyger burning bright, In the forests of the night: What immortal hand or eye, Dare frame thy fearful symmetry?\""
      ]
     },
     "execution_count": 12,
     "metadata": {},
     "output_type": "execute_result"
    }
   ],
   "source": [
    "tyger"
   ]
  },
  {
   "cell_type": "code",
   "execution_count": 13,
   "metadata": {},
   "outputs": [],
   "source": [
    "tyger_doc = nlp(tyger)"
   ]
  },
  {
   "cell_type": "code",
   "execution_count": 14,
   "metadata": {},
   "outputs": [],
   "source": [
    "tyger_sents = [[sent] for sent in tyger_doc.sents]"
   ]
  },
  {
   "cell_type": "code",
   "execution_count": 15,
   "metadata": {},
   "outputs": [],
   "source": [
    "tyger_sentences = pd.DataFrame(tyger_sents)"
   ]
  },
  {
   "cell_type": "code",
   "execution_count": 16,
   "metadata": {},
   "outputs": [
    {
     "data": {
      "text/html": [
       "<div>\n",
       "<style>\n",
       "    .dataframe thead tr:only-child th {\n",
       "        text-align: right;\n",
       "    }\n",
       "\n",
       "    .dataframe thead th {\n",
       "        text-align: left;\n",
       "    }\n",
       "\n",
       "    .dataframe tbody tr th {\n",
       "        vertical-align: top;\n",
       "    }\n",
       "</style>\n",
       "<table border=\"1\" class=\"dataframe\">\n",
       "  <thead>\n",
       "    <tr style=\"text-align: right;\">\n",
       "      <th></th>\n",
       "      <th>0</th>\n",
       "    </tr>\n",
       "  </thead>\n",
       "  <tbody>\n",
       "    <tr>\n",
       "      <th>0</th>\n",
       "      <td>(Tyger, Tyger, ,, burning, bright, ,, In, the,...</td>\n",
       "    </tr>\n",
       "    <tr>\n",
       "      <th>1</th>\n",
       "      <td>(In, what, distant, deeps, or, skies, ,, Burnt...</td>\n",
       "    </tr>\n",
       "    <tr>\n",
       "      <th>2</th>\n",
       "      <td>(On, what, wings, dare, he, aspire, ?)</td>\n",
       "    </tr>\n",
       "    <tr>\n",
       "      <th>3</th>\n",
       "      <td>(What, the, hand, ,, dare, seize, the, fire, ?)</td>\n",
       "    </tr>\n",
       "    <tr>\n",
       "      <th>4</th>\n",
       "      <td>(And, what, shoulder, ,, &amp;, what, art, ,, Coul...</td>\n",
       "    </tr>\n",
       "    <tr>\n",
       "      <th>5</th>\n",
       "      <td>(And, when, thy, heart, began, to, beat, ,, Wh...</td>\n",
       "    </tr>\n",
       "    <tr>\n",
       "      <th>6</th>\n",
       "      <td>(What, the, hammer, ?)</td>\n",
       "    </tr>\n",
       "    <tr>\n",
       "      <th>7</th>\n",
       "      <td>(what, the, chain, ,, In, what, furnace, was, ...</td>\n",
       "    </tr>\n",
       "    <tr>\n",
       "      <th>8</th>\n",
       "      <td>(What, the, anvil, ?)</td>\n",
       "    </tr>\n",
       "    <tr>\n",
       "      <th>9</th>\n",
       "      <td>(what, dread, grasp, ,, Dare, its, deadly, ter...</td>\n",
       "    </tr>\n",
       "    <tr>\n",
       "      <th>10</th>\n",
       "      <td>(When, the, stars, threw, down, their, spears,...</td>\n",
       "    </tr>\n",
       "    <tr>\n",
       "      <th>11</th>\n",
       "      <td>(Did, he, who, made, the, Lamb, make, thee, ?)</td>\n",
       "    </tr>\n",
       "    <tr>\n",
       "      <th>12</th>\n",
       "      <td>(Tyger, Tyger, burning, bright, ,, In, the, fo...</td>\n",
       "    </tr>\n",
       "  </tbody>\n",
       "</table>\n",
       "</div>"
      ],
      "text/plain": [
       "                                                    0\n",
       "0   (Tyger, Tyger, ,, burning, bright, ,, In, the,...\n",
       "1   (In, what, distant, deeps, or, skies, ,, Burnt...\n",
       "2              (On, what, wings, dare, he, aspire, ?)\n",
       "3     (What, the, hand, ,, dare, seize, the, fire, ?)\n",
       "4   (And, what, shoulder, ,, &, what, art, ,, Coul...\n",
       "5   (And, when, thy, heart, began, to, beat, ,, Wh...\n",
       "6                              (What, the, hammer, ?)\n",
       "7   (what, the, chain, ,, In, what, furnace, was, ...\n",
       "8                               (What, the, anvil, ?)\n",
       "9   (what, dread, grasp, ,, Dare, its, deadly, ter...\n",
       "10  (When, the, stars, threw, down, their, spears,...\n",
       "11     (Did, he, who, made, the, Lamb, make, thee, ?)\n",
       "12  (Tyger, Tyger, burning, bright, ,, In, the, fo..."
      ]
     },
     "execution_count": 16,
     "metadata": {},
     "output_type": "execute_result"
    }
   ],
   "source": [
    "tyger_sentences"
   ]
  },
  {
   "cell_type": "code",
   "execution_count": 17,
   "metadata": {},
   "outputs": [],
   "source": [
    "blake = gutenberg.raw('blake-poems.txt') \n",
    "pattern = \"[\\[].*?[\\]]\"\n",
    "blake = re.sub(pattern, \"\", blake)\n",
    "blake = re.sub(r\"[A-Z][A-Z]+\", '', blake)\n",
    "blake = ' '.join(blake.split())\n",
    "# blake = re.sub(r'(\\r\\n|\\r|\\n)', '', blake)"
   ]
  },
  {
   "cell_type": "code",
   "execution_count": 18,
   "metadata": {},
   "outputs": [],
   "source": [
    "blake_doc = nlp(blake)"
   ]
  },
  {
   "cell_type": "code",
   "execution_count": 19,
   "metadata": {},
   "outputs": [],
   "source": [
    "blake_sents = [[sent] for sent in blake_doc.sents]"
   ]
  },
  {
   "cell_type": "code",
   "execution_count": null,
   "metadata": {},
   "outputs": [],
   "source": []
  },
  {
   "cell_type": "code",
   "execution_count": 20,
   "metadata": {},
   "outputs": [],
   "source": [
    "blake_sentences = pd.DataFrame(blake_sents)"
   ]
  },
  {
   "cell_type": "code",
   "execution_count": 21,
   "metadata": {},
   "outputs": [
    {
     "data": {
      "text/html": [
       "<div>\n",
       "<style>\n",
       "    .dataframe thead tr:only-child th {\n",
       "        text-align: right;\n",
       "    }\n",
       "\n",
       "    .dataframe thead th {\n",
       "        text-align: left;\n",
       "    }\n",
       "\n",
       "    .dataframe tbody tr th {\n",
       "        vertical-align: top;\n",
       "    }\n",
       "</style>\n",
       "<table border=\"1\" class=\"dataframe\">\n",
       "  <thead>\n",
       "    <tr style=\"text-align: right;\">\n",
       "      <th></th>\n",
       "      <th>0</th>\n",
       "    </tr>\n",
       "  </thead>\n",
       "  <tbody>\n",
       "    <tr>\n",
       "      <th>0</th>\n",
       "      <td>(and, of, Piping, down, the, valleys, wild, ,,...</td>\n",
       "    </tr>\n",
       "    <tr>\n",
       "      <th>1</th>\n",
       "      <td>(And, he, laughing, said, to, me, :, \", Pipe, ...</td>\n",
       "    </tr>\n",
       "    <tr>\n",
       "      <th>2</th>\n",
       "      <td>(So, I, piped, with, merry, cheer, ., \")</td>\n",
       "    </tr>\n",
       "    <tr>\n",
       "      <th>3</th>\n",
       "      <td>(Piper, ,, pipe, that, song, again)</td>\n",
       "    </tr>\n",
       "    <tr>\n",
       "      <th>4</th>\n",
       "      <td>(;, \", So, I, piped, :, he, wept, to, hear, ., \")</td>\n",
       "    </tr>\n",
       "  </tbody>\n",
       "</table>\n",
       "</div>"
      ],
      "text/plain": [
       "                                                   0\n",
       "0  (and, of, Piping, down, the, valleys, wild, ,,...\n",
       "1  (And, he, laughing, said, to, me, :, \", Pipe, ...\n",
       "2           (So, I, piped, with, merry, cheer, ., \")\n",
       "3                (Piper, ,, pipe, that, song, again)\n",
       "4  (;, \", So, I, piped, :, he, wept, to, hear, ., \")"
      ]
     },
     "execution_count": 21,
     "metadata": {},
     "output_type": "execute_result"
    }
   ],
   "source": [
    "blake_sentences.head()"
   ]
  },
  {
   "cell_type": "code",
   "execution_count": 22,
   "metadata": {},
   "outputs": [],
   "source": [
    "from textblob import TextBlob"
   ]
  },
  {
   "cell_type": "code",
   "execution_count": 23,
   "metadata": {},
   "outputs": [],
   "source": [
    "blob = TextBlob(\"Tyger Tyger, burning bright,In the forests of the night; What immortal hand or eye,Could frame thy fearful symmetry? In what distant deeps or skies, Burnt the fire of thine eyes? On what wings dare he aspire? What the hand, dare seize the fire? And what shoulder, & what art, Could twist the sinews of thy heart? And when thy heart began to beat, What dread hand? & what dread feet? What the hammer? what the chain, In what furnace was thy brain? What the anvil? what dread grasp, Dare its deadly terrors clasp! When the stars threw down their spears And water'd heaven with their tears: Did he smile his work to see? Did he who made the Lamb make thee? Tyger Tyger burning bright, In the forests of the night: What immortal hand or eye, Dare frame thy fearful symmetry?\")"
   ]
  },
  {
   "cell_type": "code",
   "execution_count": 24,
   "metadata": {},
   "outputs": [
    {
     "name": "stdout",
     "output_type": "stream",
     "text": [
      "Tyger Tyger, burning bright,In the forests of the night; What immortal hand or eye,Could frame thy fearful symmetry?\n",
      "In what distant deeps or skies, Burnt the fire of thine eyes?\n",
      "On what wings dare he aspire?\n",
      "What the hand, dare seize the fire?\n",
      "And what shoulder, & what art, Could twist the sinews of thy heart?\n",
      "And when thy heart began to beat, What dread hand?\n",
      "& what dread feet?\n",
      "What the hammer?\n",
      "what the chain, In what furnace was thy brain?\n",
      "What the anvil?\n",
      "what dread grasp, Dare its deadly terrors clasp!\n",
      "When the stars threw down their spears And water'd heaven with their tears: Did he smile his work to see?\n",
      "Did he who made the Lamb make thee?\n",
      "Tyger Tyger burning bright, In the forests of the night: What immortal hand or eye, Dare frame thy fearful symmetry?\n"
     ]
    }
   ],
   "source": [
    "for sentence in blob.sentences:\n",
    "    print(sentence)"
   ]
  },
  {
   "cell_type": "code",
   "execution_count": 3,
   "metadata": {},
   "outputs": [
    {
     "ename": "NameError",
     "evalue": "name 'Blake_Tyger' is not defined",
     "output_type": "error",
     "traceback": [
      "\u001b[0;31m---------------------------------------------------------------------------\u001b[0m",
      "\u001b[0;31mNameError\u001b[0m                                 Traceback (most recent call last)",
      "\u001b[0;32m<ipython-input-3-0c9bb31b1b5a>\u001b[0m in \u001b[0;36m<module>\u001b[0;34m()\u001b[0m\n\u001b[0;32m----> 1\u001b[0;31m \u001b[0mtyger2\u001b[0m \u001b[0;34m=\u001b[0m \u001b[0mBlake_Tyger\u001b[0m\u001b[0;34m.\u001b[0m\u001b[0mtxt\u001b[0m\u001b[0;34m.\u001b[0m\u001b[0mread\u001b[0m\u001b[0;34m(\u001b[0m\u001b[0;34m)\u001b[0m\u001b[0;34m\u001b[0m\u001b[0m\n\u001b[0m",
      "\u001b[0;31mNameError\u001b[0m: name 'Blake_Tyger' is not defined"
     ]
    }
   ],
   "source": [
    "tyger2 = Blake_Tyger.txt.read()"
   ]
  },
  {
   "cell_type": "code",
   "execution_count": null,
   "metadata": {},
   "outputs": [],
   "source": []
  }
 ],
 "metadata": {
  "kernelspec": {
   "display_name": "Python 3",
   "language": "python",
   "name": "python3"
  },
  "language_info": {
   "codemirror_mode": {
    "name": "ipython",
    "version": 3
   },
   "file_extension": ".py",
   "mimetype": "text/x-python",
   "name": "python",
   "nbconvert_exporter": "python",
   "pygments_lexer": "ipython3",
   "version": "3.5.2"
  }
 },
 "nbformat": 4,
 "nbformat_minor": 2
}
