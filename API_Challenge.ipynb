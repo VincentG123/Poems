{
 "cells": [
  {
   "cell_type": "code",
   "execution_count": null,
   "metadata": {},
   "outputs": [],
   "source": [
    "import marvelous\n",
    "\n",
    "# Your own config file to keep your private key local and secret\n",
    "from config import public_key, private_key\n",
    "\n",
    "# Authenticate with Marvel, with keys I got from http://developer.marvel.com/\n",
    "m = marvelous.api(public_key, private_key)\n",
    "\n",
    "# Get all comics from this week, sorted alphabetically by title\n",
    "pulls = sorted(m.comics({\n",
    "    'format': \"comic\",\n",
    "    'formatType': \"comic\",\n",
    "    'noVariants': True,\n",
    "    'dateDescriptor': \"thisWeek\",\n",
    "    'limit': 100}),\n",
    "    key=lambda comic: comic.title)\n",
    "\n",
    "for comic in pulls:\n",
    "    # Write a line to the file with the name of the issue, and the\n",
    "    # id of the series\n",
    "    print('{} (series #{})'.format(comic.title, comic.series.id))"
   ]
  }
 ],
 "metadata": {
  "kernelspec": {
   "display_name": "Python 3",
   "language": "python",
   "name": "python3"
  },
  "language_info": {
   "codemirror_mode": {
    "name": "ipython",
    "version": 3
   },
   "file_extension": ".py",
   "mimetype": "text/x-python",
   "name": "python",
   "nbconvert_exporter": "python",
   "pygments_lexer": "ipython3",
   "version": "3.5.2"
  }
 },
 "nbformat": 4,
 "nbformat_minor": 2
}
